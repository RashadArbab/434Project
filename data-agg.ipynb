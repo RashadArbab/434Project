{
 "cells": [
  {
   "cell_type": "code",
   "execution_count": 2,
   "metadata": {},
   "outputs": [],
   "source": [
    "import pandas as pd\n"
   ]
  },
  {
   "cell_type": "code",
   "execution_count": 3,
   "metadata": {},
   "outputs": [
    {
     "name": "stdout",
     "output_type": "stream",
     "text": [
      "      county           countyname\n",
      "0       1001       Autauga County\n",
      "1       1003       Baldwin County\n",
      "2       1005       Barbour County\n",
      "3       1007          Bibb County\n",
      "4       1009        Blount County\n",
      "...      ...                  ...\n",
      "3216   72145  Vega Baja Municipio\n",
      "3217   72147    Vieques Municipio\n",
      "3218   72149   Villalba Municipio\n",
      "3219   72151    Yabucoa Municipio\n",
      "3220   72153      Yauco Municipio\n",
      "\n",
      "[3221 rows x 2 columns]\n"
     ]
    }
   ],
   "source": [
    "\n",
    "\n",
    "# Read CSV file\n",
    "csv_file = \"sf12010countyname.csv\"  # Replace with your CSV file path\n",
    "df = pd.read_csv(csv_file, encoding='latin1')\n",
    "# df['countyname'] = df['countyname'].str.replace(' County', '')\n",
    "# df['countyname'] = df['countyname'].str.upper()\n",
    "print(df)\n",
    "\n",
    "\n",
    "\n",
    "\n",
    "\n"
   ]
  },
  {
   "cell_type": "code",
   "execution_count": 4,
   "metadata": {},
   "outputs": [
    {
     "name": "stdout",
     "output_type": "stream",
     "text": [
      "countyname\n",
      "Adair County         4\n",
      "Adams County        12\n",
      "Albany County        2\n",
      "Alexander County     2\n",
      "Allegany County      2\n",
      "                    ..\n",
      "Worth County         3\n",
      "Wright County        3\n",
      "Wyoming County       3\n",
      "York County          5\n",
      "Yuma County          2\n",
      "Length: 424, dtype: int64\n"
     ]
    }
   ],
   "source": [
    "# Group by 'column_name' and count the occurrences\n",
    "grouped = df.groupby('countyname').size()\n",
    "\n",
    "# Filter the results where count is greater than 0\n",
    "filtered = grouped[grouped > 1]\n",
    "\n",
    "# Print the filtered results\n",
    "print(filtered)"
   ]
  },
  {
   "cell_type": "code",
   "execution_count": 5,
   "metadata": {},
   "outputs": [
    {
     "name": "stdout",
     "output_type": "stream",
     "text": [
      "        cfips          county    state\n",
      "0        1001  Autauga County  Alabama\n",
      "1        1001  Autauga County  Alabama\n",
      "2        1001  Autauga County  Alabama\n",
      "3        1001  Autauga County  Alabama\n",
      "4        1001  Autauga County  Alabama\n",
      "...       ...             ...      ...\n",
      "122260  56045   Weston County  Wyoming\n",
      "122261  56045   Weston County  Wyoming\n",
      "122262  56045   Weston County  Wyoming\n",
      "122263  56045   Weston County  Wyoming\n",
      "122264  56045   Weston County  Wyoming\n",
      "\n",
      "[122265 rows x 3 columns]\n"
     ]
    }
   ],
   "source": [
    "dfkaggle = pd.read_csv(\"train.csv\")\n",
    "\n",
    "\n",
    "\n",
    "columns_to_remove = ['row_id', 'first_day_of_month', 'microbusiness_density', 'active']  # List of column names to remove\n",
    "dfkaggle = dfkaggle.drop(columns=columns_to_remove)\n",
    "\n",
    "# Print the modified DataFrame\n",
    "print(dfkaggle)"
   ]
  },
  {
   "cell_type": "code",
   "execution_count": 6,
   "metadata": {},
   "outputs": [
    {
     "name": "stdout",
     "output_type": "stream",
     "text": [
      "***********\n",
      "cfips\n",
      "1001     39\n",
      "1003     39\n",
      "1005     39\n",
      "1007     39\n",
      "1009     39\n",
      "         ..\n",
      "56037    39\n",
      "56039    39\n",
      "56041    39\n",
      "56043    39\n",
      "56045    39\n",
      "Length: 3135, dtype: int64\n",
      "        cfips      county    state\n",
      "0        1001     AUTAUGA  Alabama\n",
      "39       1003     BALDWIN  Alabama\n",
      "78       1005     BARBOUR  Alabama\n",
      "117      1007        BIBB  Alabama\n",
      "156      1009      BLOUNT  Alabama\n",
      "...       ...         ...      ...\n",
      "122070  56037  SWEETWATER  Wyoming\n",
      "122109  56039       TETON  Wyoming\n",
      "122148  56041       UINTA  Wyoming\n",
      "122187  56043    WASHAKIE  Wyoming\n",
      "122226  56045      WESTON  Wyoming\n",
      "\n",
      "[3135 rows x 3 columns]\n"
     ]
    }
   ],
   "source": [
    "print(\"***********\")\n",
    "grouped1 = dfkaggle.groupby('cfips').size()\n",
    "\n",
    "# Filter the results where count is greater than 0\n",
    "filtered1 = grouped1[grouped1 > 1]\n",
    "\n",
    "# Print the filtered results\n",
    "print(filtered1)\n",
    "# Remove the duplicate entries\n",
    "dfkaggle = dfkaggle.drop_duplicates(subset=['cfips'])\n",
    "\n",
    "dfkaggle['county'] = dfkaggle['county'].str.replace(' County', '')\n",
    "dfkaggle['county'] = dfkaggle['county'].str.upper()\n",
    "\n",
    "print(dfkaggle)\n"
   ]
  },
  {
   "cell_type": "code",
   "execution_count": 7,
   "metadata": {},
   "outputs": [
    {
     "name": "stdout",
     "output_type": "stream",
     "text": [
      "      county  countyname\n",
      "0       1001     AUTAUGA\n",
      "1       1003     BALDWIN\n",
      "2       1005     BARBOUR\n",
      "3       1007        BIBB\n",
      "4       1009      BLOUNT\n",
      "...      ...         ...\n",
      "3138   56037  SWEETWATER\n",
      "3139   56039       TETON\n",
      "3140   56041       UINTA\n",
      "3141   56043    WASHAKIE\n",
      "3142   56045      WESTON\n",
      "\n",
      "[3135 rows x 2 columns]\n"
     ]
    },
    {
     "name": "stderr",
     "output_type": "stream",
     "text": [
      "/var/folders/d7/0ff87dtx5271v6wnb48hjs6w0000gn/T/ipykernel_63055/3520853620.py:6: SettingWithCopyWarning: \n",
      "A value is trying to be set on a copy of a slice from a DataFrame.\n",
      "Try using .loc[row_indexer,col_indexer] = value instead\n",
      "\n",
      "See the caveats in the documentation: https://pandas.pydata.org/pandas-docs/stable/user_guide/indexing.html#returning-a-view-versus-a-copy\n",
      "  filtered_df['countyname'] = filtered_df['countyname'].str.replace(' County', '')\n",
      "/var/folders/d7/0ff87dtx5271v6wnb48hjs6w0000gn/T/ipykernel_63055/3520853620.py:7: SettingWithCopyWarning: \n",
      "A value is trying to be set on a copy of a slice from a DataFrame.\n",
      "Try using .loc[row_indexer,col_indexer] = value instead\n",
      "\n",
      "See the caveats in the documentation: https://pandas.pydata.org/pandas-docs/stable/user_guide/indexing.html#returning-a-view-versus-a-copy\n",
      "  filtered_df['countyname'] = filtered_df['countyname'].str.upper()\n"
     ]
    }
   ],
   "source": [
    "# This block removes the entries in df that arent present in dfkaggle \n",
    "\n",
    "filtered_df = df[df['county'].isin(dfkaggle['cfips'])]\n",
    "\n",
    "\n",
    "filtered_df['countyname'] = filtered_df['countyname'].str.replace(' County', '')\n",
    "filtered_df['countyname'] = filtered_df['countyname'].str.upper()\n",
    "\n",
    "print(filtered_df)"
   ]
  },
  {
   "cell_type": "code",
   "execution_count": 8,
   "metadata": {},
   "outputs": [
    {
     "name": "stdout",
     "output_type": "stream",
     "text": [
      "          county1  mi_to_county  county2\n",
      "0            1001     22.462994     1021\n",
      "1            1001     26.844687     1085\n",
      "2            1001     29.517585     1051\n",
      "3            1001     30.776371     1047\n",
      "4            1001     34.493443     1101\n",
      "...           ...           ...      ...\n",
      "10371615    72153   5764.146656    15009\n",
      "10371616    72153   5779.825581    15005\n",
      "10371617    72153   5850.387006    15003\n",
      "10371618    72153   5930.896003    15007\n",
      "10371619    72153   6223.342795     2016\n",
      "\n",
      "[10371620 rows x 3 columns]\n"
     ]
    }
   ],
   "source": [
    "df2 = pd.read_csv(\"sf12010countydistancemiles.csv\")\n",
    "print(df2)"
   ]
  },
  {
   "cell_type": "code",
   "execution_count": 9,
   "metadata": {},
   "outputs": [
    {
     "name": "stdout",
     "output_type": "stream",
     "text": [
      "          county1  mi_to_county  county2\n",
      "0            1001     22.462994     1021\n",
      "1            1001     26.844687     1085\n",
      "2            1001     29.517585     1051\n",
      "3            1001     30.776371     1047\n",
      "4            1001     34.493443     1101\n",
      "...           ...           ...      ...\n",
      "10120455    56045   3360.180643    15005\n",
      "10120456    56045   3361.968235    15001\n",
      "10120457    56045   3409.688341    15003\n",
      "10120458    56045   3443.964819     2016\n",
      "10120459    56045   3459.539963    15007\n",
      "\n",
      "[10094700 rows x 3 columns]\n",
      "          county1  mi_to_county  county2\n",
      "0            1001     22.462994     1021\n",
      "1            1001     26.844687     1085\n",
      "2            1001     29.517585     1051\n",
      "3            1001     30.776371     1047\n",
      "4            1001     34.493443     1101\n",
      "...           ...           ...      ...\n",
      "10120455    56045   3360.180643    15005\n",
      "10120456    56045   3361.968235    15001\n",
      "10120457    56045   3409.688341    15003\n",
      "10120458    56045   3443.964819     2016\n",
      "10120459    56045   3459.539963    15007\n",
      "\n",
      "[9825090 rows x 3 columns]\n"
     ]
    }
   ],
   "source": [
    "filtered_distance_df = df2[df2['county1'].isin(dfkaggle['cfips'])]\n",
    "\n",
    "print(filtered_distance_df)\n",
    "\n",
    "filtered_distance_df = filtered_distance_df[filtered_distance_df['county2'].isin(dfkaggle['cfips'])]\n",
    "\n",
    "print(filtered_distance_df)\n",
    "\n"
   ]
  },
  {
   "cell_type": "code",
   "execution_count": 10,
   "metadata": {},
   "outputs": [
    {
     "name": "stdout",
     "output_type": "stream",
     "text": [
      "Index(['State', 'County', 'Value'], dtype='object')\n",
      "        State    County      Value\n",
      "0     ALABAMA   AUTAUGA        (D)\n",
      "1     ALABAMA   BULLOCK  1,936,000\n",
      "2     ALABAMA    ELMORE        (D)\n",
      "3     ALABAMA    GREENE         90\n",
      "4     ALABAMA      HALE        (D)\n",
      "...       ...       ...        ...\n",
      "2309  WYOMING   LARAMIE        132\n",
      "2310  WYOMING    PLATTE         82\n",
      "2311  WYOMING   LINCOLN        (D)\n",
      "2312  WYOMING  SUBLETTE        (D)\n",
      "2313  WYOMING     TETON        (D)\n",
      "\n",
      "[2314 rows x 3 columns]\n"
     ]
    }
   ],
   "source": [
    "sales_df = pd.read_csv(\"Sales, chicken broiler per head.csv\")\n",
    "columns_to_remove_sales_df = [\"Program\", \"Period\", \"Year\", \"Week Ending\", \"Geo Level\", \"State ANSI\", \"Zip Code\",\n",
    "                          \"Region\", \"watershed_code\", \"Watershed\", \"Commodity\", \"Ag District\",\n",
    "                          \"Ag District Code\", \"County ANSI\", 'Domain', 'Domain Category', \"Data Item\", \"CV (%)\"]\n",
    "sales_df = sales_df.drop(columns= columns_to_remove_sales_df)\n",
    "\n",
    "print(sales_df.columns)\n",
    "print(sales_df)\n"
   ]
  },
  {
   "cell_type": "code",
   "execution_count": 11,
   "metadata": {},
   "outputs": [
    {
     "name": "stdout",
     "output_type": "stream",
     "text": [
      "        State    County      Value\n",
      "0     ALABAMA   AUTAUGA        0.0\n",
      "1     ALABAMA   BULLOCK  1936000.0\n",
      "2     ALABAMA    ELMORE        0.0\n",
      "3     ALABAMA    GREENE       90.0\n",
      "4     ALABAMA      HALE        0.0\n",
      "...       ...       ...        ...\n",
      "2309  WYOMING   LARAMIE      132.0\n",
      "2310  WYOMING    PLATTE       82.0\n",
      "2311  WYOMING   LINCOLN        0.0\n",
      "2312  WYOMING  SUBLETTE        0.0\n",
      "2313  WYOMING     TETON        0.0\n",
      "\n",
      "[2314 rows x 3 columns]\n"
     ]
    }
   ],
   "source": [
    "# all unique non numerical values in the value column\n",
    "\n",
    "\n",
    "# Apply the conversion function to the column\n",
    "sales_df['Value'] = sales_df['Value'].str.replace(' \\(D\\)', '0', regex=True)\n",
    "# unique_values = sales_df['Value'].unique()\n",
    "\n",
    "# non_numeric_values = [value for value in unique_values if not re.match(r'^\\d+$', value) and not re.match(r'^\\d{1,3}(?:,\\d{3})+$', value)]\n",
    "\n",
    "\n",
    "# Print non-numeric values\n",
    "# print(non_numeric_values)\n",
    "\n",
    "# unique_non_numerical_values = sales_df['Value'][~sales_df['Value'].str.isnumeric()].unique()\n",
    "# print(\"Unique non-numerical values:\", unique_non_numerical_values)\n",
    "\n",
    "sales_df['Value'] = sales_df['Value'].str.replace(',', '', regex=True).astype(float)\n",
    "print(sales_df)\n",
    "    \n"
   ]
  },
  {
   "cell_type": "code",
   "execution_count": 12,
   "metadata": {},
   "outputs": [
    {
     "name": "stdout",
     "output_type": "stream",
     "text": [
      "        cfips      county    state\n",
      "0        1001     AUTAUGA  Alabama\n",
      "39       1003     BALDWIN  Alabama\n",
      "78       1005     BARBOUR  Alabama\n",
      "117      1007        BIBB  Alabama\n",
      "156      1009      BLOUNT  Alabama\n",
      "...       ...         ...      ...\n",
      "122070  56037  SWEETWATER  Wyoming\n",
      "122109  56039       TETON  Wyoming\n",
      "122148  56041       UINTA  Wyoming\n",
      "122187  56043    WASHAKIE  Wyoming\n",
      "122226  56045      WESTON  Wyoming\n",
      "\n",
      "[3135 rows x 3 columns]\n",
      "       cfips   county    state\n",
      "39      1003  BALDWIN  Alabama\n",
      "15171  13009  BALDWIN  Georgia\n"
     ]
    }
   ],
   "source": [
    "print(dfkaggle)\n",
    "\n",
    "county = dfkaggle[dfkaggle['county'] == 'BALDWIN']\n",
    "\n",
    "print(county)\n",
    "\n",
    "\n",
    "\n"
   ]
  },
  {
   "cell_type": "markdown",
   "metadata": {},
   "source": [
    "### THIS IS THE HAVERSINE DISTANCE MATRIX, BETWEEN COUNTIES IN STATES AND ALL OTHER COUNTIES IN STATES "
   ]
  },
  {
   "cell_type": "code",
   "execution_count": 13,
   "metadata": {},
   "outputs": [
    {
     "name": "stdout",
     "output_type": "stream",
     "text": [
      "         county1  mi_to_county  county2 county1_name county1_state  \\\n",
      "0           1001     22.462994     1021      AUTAUGA       Alabama   \n",
      "1           1001     26.844687     1085      AUTAUGA       Alabama   \n",
      "2           1001     29.517585     1051      AUTAUGA       Alabama   \n",
      "3           1001     30.776371     1047      AUTAUGA       Alabama   \n",
      "4           1001     34.493443     1101      AUTAUGA       Alabama   \n",
      "...          ...           ...      ...          ...           ...   \n",
      "9825085    56045   3360.180643    15005       WESTON       Wyoming   \n",
      "9825086    56045   3361.968235    15001       WESTON       Wyoming   \n",
      "9825087    56045   3409.688341    15003       WESTON       Wyoming   \n",
      "9825088    56045   3443.964819     2016       WESTON       Wyoming   \n",
      "9825089    56045   3459.539963    15007       WESTON       Wyoming   \n",
      "\n",
      "                       county2_name county2_state  \n",
      "0                           CHILTON       Alabama  \n",
      "1                           LOWNDES       Alabama  \n",
      "2                            ELMORE       Alabama  \n",
      "3                            DALLAS       Alabama  \n",
      "4                        MONTGOMERY       Alabama  \n",
      "...                             ...           ...  \n",
      "9825085                     KALAWAO        Hawaii  \n",
      "9825086                      HAWAII        Hawaii  \n",
      "9825087                    HONOLULU        Hawaii  \n",
      "9825088  ALEUTIANS WEST CENSUS AREA        Alaska  \n",
      "9825089                       KAUAI        Hawaii  \n",
      "\n",
      "[9825090 rows x 7 columns]\n"
     ]
    }
   ],
   "source": [
    "\n",
    "# Merge 'filtered_distance_df' with 'dfkaggle' to get county and state for county1\n",
    "filtered_distance_df = filtered_distance_df.merge(dfkaggle[['cfips', 'county', 'state']],\n",
    "                                                  how='left', left_on='county1', right_on='cfips')\n",
    "\n",
    "# Rename county1 columns with matched county and state values\n",
    "filtered_distance_df = filtered_distance_df.rename(columns={'county': 'county1_name', 'state': 'county1_state'})\n",
    "\n",
    "# Merge 'filtered_distance_df' with 'dfkaggle' again to get county and state for county2\n",
    "filtered_distance_df = filtered_distance_df.merge(dfkaggle[['cfips', 'county', 'state']],\n",
    "                                                  how='left', left_on='county2', right_on='cfips')\n",
    "\n",
    "# Rename county2 columns with matched county and state values\n",
    "filtered_distance_df = filtered_distance_df.rename(columns={'county': 'county2_name', 'state': 'county2_state'})\n",
    "\n",
    "# Drop unnecessary columns\n",
    "filtered_distance_df = filtered_distance_df.drop(columns=['cfips_x', 'cfips_y'])\n",
    "\n",
    "# Print the final DataFrame\n",
    "print(filtered_distance_df)\n",
    "\n",
    "\n",
    "output_file = 'distance-matrix.csv'\n",
    "filtered_distance_df.to_csv(output_file, index=False)\n",
    "\n",
    "\n",
    "\n",
    "\n"
   ]
  },
  {
   "cell_type": "code",
   "execution_count": 14,
   "metadata": {},
   "outputs": [
    {
     "name": "stdout",
     "output_type": "stream",
     "text": [
      "         State       County       Value\n",
      "0      ALABAMA      AUTAUGA         0.0\n",
      "1      ALABAMA      BULLOCK   1936000.0\n",
      "2      ALABAMA       ELMORE         0.0\n",
      "3      ALABAMA         HALE         0.0\n",
      "4      ALABAMA      LOWNDES  14158667.0\n",
      "..         ...          ...         ...\n",
      "629  WISCONSIN         IOWA         0.0\n",
      "630  WISCONSIN      BUFFALO  18765000.0\n",
      "631  WISCONSIN   EAU CLAIRE   2008000.0\n",
      "632  WISCONSIN      JACKSON   2100000.0\n",
      "633  WISCONSIN  TREMPEALEAU  29429000.0\n",
      "\n",
      "[634 rows x 3 columns]\n"
     ]
    }
   ],
   "source": [
    "production_df = pd.read_csv(\"Production, chicken broiler per head.csv\")\n",
    "columns_to_remove_prod_df = [\"Program\", \"Period\", \"Year\", \"Week Ending\", \"Geo Level\", \"State ANSI\", \"Zip Code\",\n",
    "                          \"Region\", \"watershed_code\", \"Watershed\", \"Commodity\", \"Ag District\",\n",
    "                          \"Ag District Code\", \"County ANSI\", 'Domain', 'Domain Category', \"Data Item\", \"CV (%)\"]\n",
    "production_df = production_df.drop(columns= columns_to_remove_prod_df)\n",
    "\n",
    "production_df['Value'] = production_df['Value'].str.replace(' \\(D\\)', '0', regex=True)\n",
    "production_df['Value'] = production_df['Value'].str.replace(',', '', regex=True).astype(float)\n",
    "\n",
    "print(production_df)\n",
    "\n"
   ]
  },
  {
   "cell_type": "markdown",
   "metadata": {},
   "source": [
    "### THIS IS THE NET VALUE OF CONSUMPTION BETWEEN PRODUCERS AND CONSUMERS "
   ]
  },
  {
   "cell_type": "code",
   "execution_count": 15,
   "metadata": {},
   "outputs": [
    {
     "name": "stdout",
     "output_type": "stream",
     "text": [
      "         State       County  Value_sales  Value_prod  Net_Value\n",
      "0      ALABAMA      AUTAUGA          0.0         0.0        0.0\n",
      "1      ALABAMA      BULLOCK    1936000.0   1936000.0        0.0\n",
      "2      ALABAMA       ELMORE          0.0         0.0        0.0\n",
      "3      ALABAMA         HALE          0.0         0.0        0.0\n",
      "4      ALABAMA      LOWNDES   14158667.0  14158667.0        0.0\n",
      "..         ...          ...          ...         ...        ...\n",
      "629  WISCONSIN         IOWA          0.0         0.0        0.0\n",
      "630  WISCONSIN      BUFFALO   18766515.0  18765000.0    -1515.0\n",
      "631  WISCONSIN   EAU CLAIRE    2077776.0   2008000.0   -69776.0\n",
      "632  WISCONSIN      JACKSON    2137204.0   2100000.0   -37204.0\n",
      "633  WISCONSIN  TREMPEALEAU   29430195.0  29429000.0    -1195.0\n",
      "\n",
      "[634 rows x 5 columns]\n"
     ]
    }
   ],
   "source": [
    "# Merge DataFrames and subtract values\n",
    "merged_df = pd.merge(sales_df, production_df, on=['State', 'County'], suffixes=('_sales', '_prod'))\n",
    "merged_df['Net_Value'] = merged_df['Value_prod'] - merged_df['Value_sales']\n",
    "\n",
    "# Print the merged DataFrame with subtracted values\n",
    "print(merged_df)\n",
    "output_file = 'net-consuption.csv'\n",
    "merged_df.to_csv(output_file, index=False)\n"
   ]
  }
 ],
 "metadata": {
  "kernelspec": {
   "display_name": "434project",
   "language": "python",
   "name": "python3"
  },
  "language_info": {
   "codemirror_mode": {
    "name": "ipython",
    "version": 3
   },
   "file_extension": ".py",
   "mimetype": "text/x-python",
   "name": "python",
   "nbconvert_exporter": "python",
   "pygments_lexer": "ipython3",
   "version": "3.10.7"
  },
  "orig_nbformat": 4
 },
 "nbformat": 4,
 "nbformat_minor": 2
}
